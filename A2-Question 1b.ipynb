{
 "cells": [
  {
   "cell_type": "code",
   "execution_count": 98,
   "metadata": {},
   "outputs": [
    {
     "name": "stdout",
     "output_type": "stream",
     "text": [
      "+------+--------+--------------------+----------+\n",
      "|Months|Sunspots|            features|prediction|\n",
      "+------+--------+--------------------+----------+\n",
      "|   0.0|    58.0|              [58.0]|         2|\n",
      "|   1.0|    62.6|[62.599998474121094]|         2|\n",
      "|   2.0|    70.0|              [70.0]|         2|\n",
      "|   3.0|    55.7| [55.70000076293945]|         2|\n",
      "|   4.0|    85.0|              [85.0]|         3|\n",
      "|   5.0|    83.5|              [83.5]|         3|\n",
      "|   6.0|    94.8| [94.80000305175781]|         3|\n",
      "|   7.0|    66.3| [66.30000305175781]|         2|\n",
      "|   8.0|    75.9|  [75.9000015258789]|         2|\n",
      "|   9.0|    75.5|              [75.5]|         2|\n",
      "|  10.0|   158.6|[158.60000610351562]|         4|\n",
      "|  11.0|    85.2| [85.19999694824219]|         3|\n",
      "|  12.0|    73.3| [73.30000305175781]|         2|\n",
      "|  13.0|    75.9|  [75.9000015258789]|         2|\n",
      "|  14.0|    89.2| [89.19999694824219]|         3|\n",
      "|  15.0|    88.3| [88.30000305175781]|         3|\n",
      "|  16.0|    90.0|              [90.0]|         3|\n",
      "|  17.0|   100.0|             [100.0]|         3|\n",
      "|  18.0|    85.4|  [85.4000015258789]|         3|\n",
      "|  19.0|   103.0|             [103.0]|         3|\n",
      "+------+--------+--------------------+----------+\n",
      "only showing top 20 rows\n",
      "\n",
      "Cluster Centers: \n",
      "[128.98601681]\n",
      "[9.65176126]\n",
      "[62.22202578]\n",
      "[94.06424976]\n",
      "[174.34782595]\n",
      "[35.44933156]\n"
     ]
    },
    {
     "data": {
      "image/png": "[encoded data removed]",
      "text/plain": [
       "<Figure size 432x288 with 1 Axes>"
      ]
     },
     "metadata": {
      "needs_background": "light"
     },
     "output_type": "display_data"
    }
   ],
   "source": [
    "\n",
    "from pyspark.mllib.linalg import Vectors\n",
    "from pyspark.ml.feature import VectorAssembler\n",
    "from pyspark.sql.types import FloatType,IntegerType\n",
    "from pyspark.ml.clustering import KMeans\n",
    "\n",
    "from pyspark.sql import SparkSession\n",
    "\n",
    "#First way to load data \n",
    "sunspots = sc.textFile('./sunspots.txt')\n",
    "data = sunspots.map(lambda k: k.split(\"\\t\"))\n",
    "\n",
    "#Secound Way to  to load data \n",
    "# spark = SparkSession \\\n",
    "#         .builder \\\n",
    "#         .appName(\"clustering\") \\\n",
    "#         .getOrCreate()\n",
    "# data = spark.read.text(\"./sunspots.txt\")\n",
    "# data = data.rdd.map(lambda k: k['value'].split(\"\\t\"))\n",
    "\n",
    "#Adding columns and casting \n",
    "sunspots_df = data.toDF(['Months','Sunspots'])\n",
    "sunspots_df = sunspots_df.withColumn(\"Months\", sunspots_df[\"Months\"].cast(FloatType()))\n",
    "sunspots_df = sunspots_df.withColumn(\"Sunspots\", sunspots_df[\"Sunspots\"].cast(FloatType()))\n",
    "\n",
    "#Vectrozing columns\n",
    "vecAssembler = VectorAssembler(inputCols=[\"Sunspots\"], outputCol=\"features\")\n",
    "new_df = vecAssembler.transform(sunspots_df)\n",
    "\n",
    "#fitting KMeans model\n",
    "kmeans = KMeans(k=6, seed=1)  \n",
    "model = kmeans.fit(new_df.select('features'))\n",
    "\n",
    "#transforming your initial dataframe to include cluster\n",
    "transformed = model.transform(new_df)\n",
    "transformed.show() \n",
    "\n",
    "centers = model.clusterCenters()\n",
    "\n",
    "print(\"Cluster Centers: \")\n",
    "for center in centers:\n",
    "    print(center)\n",
    "\n",
    "    \n",
    "# import numpy as np\n",
    "# import matplotlib.pyplot as plt\n",
    "\n",
    "# # Fixing random state for reproducibility\n",
    "# np.random.seed(19680801)\n",
    "\n",
    "\n",
    "# N = 50\n",
    "# x = np.random.rand(N)\n",
    "# y = np.random.rand(N)\n",
    "# colors = np.random.rand(N)\n",
    "# area = (30 * np.random.rand(N))**2  # 0 to 15 point radii\n",
    "\n",
    "# # plt.scatter(x, y, s=area, c=colors, alpha=0.5)\n",
    "\n",
    "# # anomalies.select(\"Months\").toPandas()\n",
    "\n",
    "# plt.scatter(transformed.select(\"prediction\").toPandas(), transformed.select(\"Sunspots\").toPandas())\n",
    "\n",
    "# # plt.scatter(centroids[:, 0], centroids[:, 1], c='red', s=50)\n",
    "\n",
    "# plt.show()\n"
   ]
  },
  {
   "cell_type": "code",
   "execution_count": null,
   "metadata": {},
   "outputs": [],
   "source": []
  },
  {
   "cell_type": "code",
   "execution_count": null,
   "metadata": {},
   "outputs": [],
   "source": []
  }
 ],
 "metadata": {
  "kernelspec": {
   "display_name": "Python 3",
   "language": "python",
   "name": "python3"
  },
  "language_info": {
   "codemirror_mode": {
    "name": "ipython",
    "version": 3
   },
   "file_extension": ".py",
   "mimetype": "text/x-python",
   "name": "python",
   "nbconvert_exporter": "python",
   "pygments_lexer": "ipython3",
   "version": "3.7.1"
  }
 },
 "nbformat": 4,
 "nbformat_minor": 2
}
