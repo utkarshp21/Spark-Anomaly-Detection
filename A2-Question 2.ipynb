{
 "cells": [
  {
   "cell_type": "code",
   "execution_count": 135,
   "metadata": {},
   "outputs": [
    {
     "data": {
      "text/plain": [
       "[]"
      ]
     },
     "execution_count": 135,
     "metadata": {},
     "output_type": "execute_result"
    }
   ],
   "source": [
    "\n",
    "from pyspark.sql.functions import array_contains\n",
    "\n",
    "\n",
    "businessDF = spark.read.json('./business.json', multiLine=True)\n",
    "\n",
    "#Qustion 2a\n",
    "businessDF = businessDF.filter((businessDF.state=='AZ') & \\\n",
    "                               (array_contains('categories',\"Nightlife\")) & \\\n",
    "                               businessDF.attributes.BusinessParking.garage==True)\n",
    "\n",
    "businessDF.collect()\n",
    "\n",
    "#Qustion 2b\n",
    "businessDF.createOrReplaceTempView(\"businessDF\")\n",
    "\n",
    "businessDF = sqlContext.sql(\"SELECT * FROM businessDF WHERE array_contains(categories,'Nightlife') AND \\\n",
    "                            state=='AZ' AND attributes.BusinessParking.garage==True \")\n",
    "\n",
    "businessDF.collect()\n"
   ]
  },
  {
   "cell_type": "code",
   "execution_count": null,
   "metadata": {},
   "outputs": [],
   "source": []
  },
  {
   "cell_type": "code",
   "execution_count": null,
   "metadata": {},
   "outputs": [],
   "source": []
  },
  {
   "cell_type": "code",
   "execution_count": null,
   "metadata": {},
   "outputs": [],
   "source": []
  },
  {
   "cell_type": "code",
   "execution_count": null,
   "metadata": {},
   "outputs": [],
   "source": []
  }
 ],
 "metadata": {
  "kernelspec": {
   "display_name": "Python 3",
   "language": "python",
   "name": "python3"
  },
  "language_info": {
   "codemirror_mode": {
    "name": "ipython",
    "version": 3
   },
   "file_extension": ".py",
   "mimetype": "text/x-python",
   "name": "python",
   "nbconvert_exporter": "python",
   "pygments_lexer": "ipython3",
   "version": "3.7.1"
  }
 },
 "nbformat": 4,
 "nbformat_minor": 2
}
